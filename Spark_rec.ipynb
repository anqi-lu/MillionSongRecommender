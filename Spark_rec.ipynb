{
 "cells": [
  {
   "cell_type": "code",
   "execution_count": 1,
   "metadata": {
    "collapsed": true
   },
   "outputs": [],
   "source": [
    "from pprint import pprint\n",
    "from collections import defaultdict\n",
    "import itertools\n",
    "import sys\n",
    "from math import sqrt\n",
    "from operator import add\n",
    "from os.path import join, isfile, dirname\n",
    "from pyspark.mllib.recommendation import ALS,MatrixFactorizationModel"
   ]
  },
  {
   "cell_type": "code",
   "execution_count": 3,
   "metadata": {
    "collapsed": true
   },
   "outputs": [],
   "source": [
    "import findspark\n",
    "findspark.init()"
   ]
  },
  {
   "cell_type": "code",
   "execution_count": 4,
   "metadata": {
    "collapsed": true
   },
   "outputs": [],
   "source": [
    "import pyspark\n",
    "\n",
    "sc = pyspark.SparkContext(appName=\"recommender\")"
   ]
  },
  {
   "cell_type": "code",
   "execution_count": 6,
   "metadata": {
    "collapsed": false
   },
   "outputs": [],
   "source": [
    "def to_string(line):\n",
    "    line=line.split(\"\\t\")\n",
    "    return (str(line[0]),str(line[1]),str(line[2]))\n",
    "\n",
    "def float_tostring(line):\n",
    "    return (str(line[0]),str(line[1]),str(line[2]))\n",
    "\n",
    "def take5(tup_list):\n",
    "    tup_top5=tup_list[:5]\n",
    "    return tup_top5\n",
    "\n",
    "def sort_tup_list(list_tup):\n",
    "    list_tup.sort(key=lambda x: -x[1])\n",
    "    return list_tup\n",
    "\n",
    "\n",
    "music_data=sc.textFile(\"EvalData/year1_valid_triplets_hidden.txt\").take(5000000)\n",
    "test_sc=sc.textFile(\"EvalData/year1_valid_triplets_visible.txt\").take(100000)"
   ]
  },
  {
   "cell_type": "code",
   "execution_count": 7,
   "metadata": {
    "collapsed": true
   },
   "outputs": [],
   "source": [
    "music_data=sc.parallelize(music_data)\n",
    "test_sc=sc.parallelize(test_sc)"
   ]
  },
  {
   "cell_type": "code",
   "execution_count": 9,
   "metadata": {
    "collapsed": false
   },
   "outputs": [],
   "source": [
    "ratings=music_data.map(to_string)\n",
    "\n",
    "userstoint = ratings.map(lambda (a,b,c): a).distinct().zipWithIndex()\n",
    "reversemappingofusers = userstoint.map(lambda (a,b) : (b,a))\n",
    "\n",
    "ratingswithuniqueuserid = ratings.map(lambda (a,b,c) : (a,(b,c))).join(userstoint)\n",
    "\n",
    "newratings = ratingswithuniqueuserid.map(lambda  (userid,((songid, count), usertoint)) : (usertoint, songid, count))\n",
    "\n",
    "songstoint = ratings.map(lambda (usertoint, songid, count): songid).distinct().zipWithIndex()\n",
    "\n",
    "ratingswithuniquesongid = newratings.map(lambda (usertoint,songid,count) : (songid,(usertoint,count))).join(songstoint)\n",
    "\n",
    "newratings = ratingswithuniquesongid.map(lambda  (songid,((usertoint, count), songtoint)) : (usertoint, songtoint, count))\n",
    "\n",
    "reversemappingofsongs = songstoint.map(lambda (a,b) : (b,a))\n",
    "\n",
    "newratings=newratings.map(float_tostring)\n",
    "newratings=newratings.filter(lambda (a,b,c): c.isdigit())"
   ]
  },
  {
   "cell_type": "code",
   "execution_count": 15,
   "metadata": {
    "collapsed": true
   },
   "outputs": [],
   "source": [
    "training_RDD, validation_RDD, test_RDD = newratings.randomSplit([6, 2, 2], seed=0L)\n",
    "validation_for_predict_RDD = validation_RDD.map(lambda x: (x[0], x[1]))\n",
    "test_for_predict_RDD = test_RDD.map(lambda x: (x[0], x[1]))"
   ]
  },
  {
   "cell_type": "code",
   "execution_count": 16,
   "metadata": {
    "collapsed": false
   },
   "outputs": [
    {
     "name": "stdout",
     "output_type": "stream",
     "text": [
      "For rank 4 the RMSE is 10.0300958753\n",
      "For rank 8 the RMSE is 8.73563038913\n",
      "For rank 12 the RMSE is 8.2602847062\n",
      "The best model was trained with rank 12\n"
     ]
    }
   ],
   "source": [
    "seed = 5L\n",
    "iterations = 10\n",
    "regularization_parameter = 0.1\n",
    "ranks = [4, 8, 12]\n",
    "errors = [0, 0, 0]\n",
    "err = 0\n",
    "tolerance = 0.02\n",
    "\n",
    "min_error = float('inf')\n",
    "best_rank = -1\n",
    "best_iteration = -1\n",
    "\n",
    "for rank in ranks:\n",
    "    model = ALS.train(training_RDD, rank, seed=seed, iterations=iterations,\n",
    "                      lambda_=regularization_parameter)\n",
    "    predictions = model.predictAll(validation_for_predict_RDD).map(lambda r: ((r[0], r[1]), r[2]))\n",
    "    rates_and_preds = validation_RDD.map(lambda r: ((int(r[0]), int(r[1])), float(r[2]))).join(predictions)\n",
    "    error = sqrt(rates_and_preds.map(lambda r: (r[1][0] - r[1][1])**2).mean())\n",
    "    errors[err] = error\n",
    "    err += 1\n",
    "    print 'For rank %s the RMSE is %s' % (rank, error)\n",
    "    if error < min_error:\n",
    "        min_error = error\n",
    "        best_rank = rank\n",
    "\n",
    "print 'The best model was trained with rank %s' % best_rank"
   ]
  },
  {
   "cell_type": "code",
   "execution_count": 17,
   "metadata": {
    "collapsed": false
   },
   "outputs": [
    {
     "data": {
      "text/plain": [
       "[((825, 961), (1.0, 1.2534019986313527)),\n",
       " ((3141, 38629), (1.0, 0.2514054467539409))]"
      ]
     },
     "execution_count": 17,
     "metadata": {},
     "output_type": "execute_result"
    }
   ],
   "source": [
    "rates_and_preds.take(2)"
   ]
  },
  {
   "cell_type": "code",
   "execution_count": 18,
   "metadata": {
    "collapsed": false
   },
   "outputs": [
    {
     "data": {
      "text/plain": [
       "[('6313', '3029', '1')]"
      ]
     },
     "execution_count": 18,
     "metadata": {},
     "output_type": "execute_result"
    }
   ],
   "source": [
    "test_RDD.take(1)"
   ]
  },
  {
   "cell_type": "code",
   "execution_count": 24,
   "metadata": {
    "collapsed": false
   },
   "outputs": [
    {
     "data": {
      "text/plain": [
       "'\\ntest_ratings=test_RDD.map(to_string)\\ntest_userstoint = test_ratings.map(lambda (a,b,c): a).distinct().zipWithIndex()\\ntest_reversemappingofusers = test_userstoint.map(lambda (a,b) : (b,a))\\ntest_ratingswithuniqueuserid = test_ratings.map(lambda (a,b,c) : (a,(b,c))).join(userstoint)\\ntest_newratings = test_ratingswithuniqueuserid.map(lambda  (userid,((songid, count), usertoint)) : (usertoint, songid, count))\\ntest_songstoint = test_ratings.map(lambda (usertoint, songid, count): songid).distinct().zipWithIndex()\\ntest_ratingswithuniquesongid = test_newratings.map(lambda (usertoint,songid,count) : (songid,(usertoint,count))).join(songstoint)\\ntest_newratings = test_ratingswithuniquesongid.map(lambda  (songid,((usertoint, count), songtoint)) : (usertoint, songtoint, count))\\ntest_reversemappingofsongs = test_songstoint.map(lambda (a,b) : (b,a))\\ntest_newratings=test_newratings.map(float_tostring)\\ntest_newratings=test_newratings.filter(lambda (a,b,c): c.isdigit())\\n'"
      ]
     },
     "execution_count": 24,
     "metadata": {},
     "output_type": "execute_result"
    }
   ],
   "source": [
    "\"\"\"\n",
    "test_ratings=test_RDD.map(to_string)\n",
    "test_userstoint = test_ratings.map(lambda (a,b,c): a).distinct().zipWithIndex()\n",
    "test_reversemappingofusers = test_userstoint.map(lambda (a,b) : (b,a))\n",
    "test_ratingswithuniqueuserid = test_ratings.map(lambda (a,b,c) : (a,(b,c))).join(userstoint)\n",
    "test_newratings = test_ratingswithuniqueuserid.map(lambda  (userid,((songid, count), usertoint)) : (usertoint, songid, count))\n",
    "test_songstoint = test_ratings.map(lambda (usertoint, songid, count): songid).distinct().zipWithIndex()\n",
    "test_ratingswithuniquesongid = test_newratings.map(lambda (usertoint,songid,count) : (songid,(usertoint,count))).join(songstoint)\n",
    "test_newratings = test_ratingswithuniquesongid.map(lambda  (songid,((usertoint, count), songtoint)) : (usertoint, songtoint, count))\n",
    "test_reversemappingofsongs = test_songstoint.map(lambda (a,b) : (b,a))\n",
    "test_newratings=test_newratings.map(float_tostring)\n",
    "test_newratings=test_newratings.filter(lambda (a,b,c): c.isdigit())\n",
    "\"\"\""
   ]
  },
  {
   "cell_type": "code",
   "execution_count": 23,
   "metadata": {
    "collapsed": false
   },
   "outputs": [
    {
     "name": "stdout",
     "output_type": "stream",
     "text": [
      "For testing data the RMSE is 8.52239654355\n"
     ]
    }
   ],
   "source": [
    "model = ALS.train(training_RDD, best_rank, seed=seed, iterations=iterations,\n",
    "                      lambda_=regularization_parameter)\n",
    "predictions = model.predictAll(test_for_predict_RDD).map(lambda r: ((r[0], r[1]), r[2]))\n",
    "rates_and_preds = test_RDD.map(lambda r: ((int(r[0]), int(r[1])), float(r[2]))).join(predictions)\n",
    "error = sqrt(rates_and_preds.map(lambda r: (r[1][0] - r[1][1])**2).mean())\n",
    "\n",
    "print 'For testing data the RMSE is %s' % (error)"
   ]
  },
  {
   "cell_type": "code",
   "execution_count": null,
   "metadata": {
    "collapsed": true
   },
   "outputs": [],
   "source": []
  }
 ],
 "metadata": {
  "kernelspec": {
   "display_name": "Python 2",
   "language": "python",
   "name": "python2"
  },
  "language_info": {
   "codemirror_mode": {
    "name": "ipython",
    "version": 2
   },
   "file_extension": ".py",
   "mimetype": "text/x-python",
   "name": "python",
   "nbconvert_exporter": "python",
   "pygments_lexer": "ipython2",
   "version": "2.7.9"
  }
 },
 "nbformat": 4,
 "nbformat_minor": 2
}
